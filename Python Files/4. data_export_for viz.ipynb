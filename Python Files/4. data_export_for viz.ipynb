{
 "cells": [
  {
   "cell_type": "code",
   "execution_count": 1,
   "metadata": {},
   "outputs": [],
   "source": [
    "import pandas as pd\n",
    "data = pd.read_csv(r'D:\\DATA SCIENCE\\Data Analysis Projects\\01. GDAPC\\Case Study 1.1 Cyclistics Restarted\\00. Data for Viz\\v8_data_for_visualization.csv')\n",
    "df = pd.DataFrame(data)\n",
    "df['started_at'] = pd.to_datetime(df['started_at'])\n",
    "df['ended_at'] = pd.to_datetime(df['ended_at'])\n",
    "df['ride_duration'] = pd.to_timedelta(df['ride_duration'])"
   ]
  },
  {
   "cell_type": "code",
   "execution_count": 2,
   "metadata": {},
   "outputs": [],
   "source": [
    "members_count = df.groupby('member_casual')[\"member_casual\"].value_counts().reset_index(name=\"Rides_Counts\")\n",
    "members_count.to_csv(r'D:\\DATA SCIENCE\\Data Analysis Projects\\01. GDAPC\\Case Study 1.1 Cyclistics Restarted\\00.1 Csv for Data Visualization\\members_count_data.csv', sep=',', index=False)"
   ]
  },
  {
   "cell_type": "code",
   "execution_count": 3,
   "metadata": {},
   "outputs": [],
   "source": [
    "rideable_type = df.groupby('rideable_type')[\"member_casual\"].value_counts().reset_index(name=\"Rides_Counts\")\n",
    "rideable_type.to_csv(r'D:\\DATA SCIENCE\\Data Analysis Projects\\01. GDAPC\\Case Study 1.1 Cyclistics Restarted\\00.1 Csv for Data Visualization\\rideable_type_data.csv', sep=',', index=False)"
   ]
  },
  {
   "cell_type": "code",
   "execution_count": 4,
   "metadata": {},
   "outputs": [],
   "source": [
    "quarterly = df.groupby('quarter')[\"member_casual\"].value_counts().reset_index(name=\"Rides_Counts\")\n",
    "quarterly.to_csv(r'D:\\DATA SCIENCE\\Data Analysis Projects\\01. GDAPC\\Case Study 1.1 Cyclistics Restarted\\00.1 Csv for Data Visualization\\quarterly_data.csv', sep=',', index=False)"
   ]
  },
  {
   "cell_type": "code",
   "execution_count": 5,
   "metadata": {},
   "outputs": [],
   "source": [
    "monthly = df.groupby('month')[\"member_casual\"].value_counts().reset_index(name=\"Rides_Counts\").sort_values(by='month')\n",
    "monthly.to_csv(r'D:\\DATA SCIENCE\\Data Analysis Projects\\01. GDAPC\\Case Study 1.1 Cyclistics Restarted\\00.1 Csv for Data Visualization\\monthly_data.csv', sep=',', index=False)"
   ]
  },
  {
   "cell_type": "code",
   "execution_count": 6,
   "metadata": {},
   "outputs": [],
   "source": [
    "weekly = df.groupby('weekday')[\"member_casual\"].value_counts().reset_index(name=\"Rides_Counts\")\n",
    "weekly.to_csv(r'D:\\DATA SCIENCE\\Data Analysis Projects\\01. GDAPC\\Case Study 1.1 Cyclistics Restarted\\00.1 Csv for Data Visualization\\weekly_data.csv', sep=',', index=False)"
   ]
  },
  {
   "cell_type": "code",
   "execution_count": 7,
   "metadata": {},
   "outputs": [],
   "source": [
    "time_buckets = df.groupby(['time_bucket', 'member_casual']).size().reset_index(name='ride_counts')\n",
    "time_buckets.to_csv(r'D:\\DATA SCIENCE\\Data Analysis Projects\\01. GDAPC\\Case Study 1.1 Cyclistics Restarted\\00.1 Csv for Data Visualization\\time_buckets_data.csv', sep=',', index=False)"
   ]
  },
  {
   "cell_type": "code",
   "execution_count": 8,
   "metadata": {},
   "outputs": [],
   "source": [
    "frequent_locations = df.groupby([\"start_station_name\", \"end_station_name\"])[\"member_casual\"].value_counts().reset_index(name=\"Rides_Counts\").sort_values(by= 'Rides_Counts', ascending=False).head(10)\n",
    "frequent_locations.to_csv(r'D:\\DATA SCIENCE\\Data Analysis Projects\\01. GDAPC\\Case Study 1.1 Cyclistics Restarted\\00.1 Csv for Data Visualization\\frequent_locations_data.csv', sep=',', index=False)"
   ]
  },
  {
   "cell_type": "code",
   "execution_count": 9,
   "metadata": {},
   "outputs": [],
   "source": [
    "top_start_station = df.groupby('start_station_name')[\"member_casual\"].value_counts().reset_index(name=\"Rides_Counts\").sort_values(by= 'Rides_Counts', ascending=False).head(10)\n",
    "top_start_station.to_csv(r'D:\\DATA SCIENCE\\Data Analysis Projects\\01. GDAPC\\Case Study 1.1 Cyclistics Restarted\\00.1 Csv for Data Visualization\\top_start_station_data.csv', sep=',', index=False)"
   ]
  },
  {
   "cell_type": "code",
   "execution_count": 10,
   "metadata": {},
   "outputs": [],
   "source": [
    "ride_abondenment = df.groupby(['minutes_below_3', 'member_casual']).size().reset_index(name='ride_counts')\n",
    "ride_abondenment.to_csv(r'D:\\DATA SCIENCE\\Data Analysis Projects\\01. GDAPC\\Case Study 1.1 Cyclistics Restarted\\00.1 Csv for Data Visualization\\ride_abondenment_data.csv', sep=',', index=False)\n"
   ]
  }
 ],
 "metadata": {
  "kernelspec": {
   "display_name": "Python 3",
   "language": "python",
   "name": "python3"
  },
  "language_info": {
   "codemirror_mode": {
    "name": "ipython",
    "version": 3
   },
   "file_extension": ".py",
   "mimetype": "text/x-python",
   "name": "python",
   "nbconvert_exporter": "python",
   "pygments_lexer": "ipython3",
   "version": "3.13.0"
  }
 },
 "nbformat": 4,
 "nbformat_minor": 2
}
